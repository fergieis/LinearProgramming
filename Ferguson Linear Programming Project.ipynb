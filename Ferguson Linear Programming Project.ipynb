{
 "cells": [
  {
   "cell_type": "markdown",
   "metadata": {},
   "source": [
    "## Linear Programming (OPER 610) Project\n",
    "## MAJ Matthew Ferguson\n",
    "\n",
    "#Setup and test configuration\n",
    "The first requirement is to import necessary methods from PuLP.\n",
    "I've previously installed GNU LPK and the CBC Solver comes with PuLP. Gurobi is pending... hopefully that will be number three.  \n",
    "\n",
    "the first block of code tests for connectivity of the Solvers.  Ideally, the output should appear something like:\n",
    "\n",
    "Testing zero subtraction\n",
    "\t Testing inconsistant lp solution\n",
    "\t Testing continuous LP solution\n",
    "\t Testing maximize continuous LP solution\n",
    "\t Testing unbounded continuous LP solution\n",
    "\t Testing Long Names\n",
    "\t Testing repeated Names\n",
    "\t Testing zero constraint\n",
    "\t Testing zero objective\n",
    "\t Testing LpVariable (not LpAffineExpression) objective\n",
    "\t Testing Long lines in LP\n",
    "\t Testing LpAffineExpression divide\n",
    "\t Testing MIP solution\n",
    "\t Testing MIP solution with floats in objective\n",
    "\t Testing MIP relaxation\n",
    "\t Testing feasibility problem (no objective)\n",
    "\t Testing an infeasible problem\n",
    "\t Testing an integer infeasible problem\n",
    "\t Testing column based modelling\n",
    "\t Testing dual variables and slacks reporting\n",
    "\t Testing fractional constraints\n",
    "\t Testing elastic constraints (no change)\n",
    "\t Testing elastic constraints (freebound)\n",
    "\t Testing elastic constraints (penalty unchanged)\n",
    "\t Testing elastic constraints (penalty unbounded)\n",
    "* Solver pulp.solvers.PULP_CBC_CMD passed.\n",
    "Solver pulp.solvers.CPLEX_DLL unavailable\n",
    "Solver pulp.solvers.CPLEX_CMD unavailable\n",
    "Solver pulp.solvers.CPLEX_PY unavailable\n",
    "Solver pulp.solvers.COIN_CMD unavailable\n",
    "Solver pulp.solvers.COINMP_DLL unavailable\n",
    "\t Testing zero subtraction\n",
    "\t Testing inconsistant lp solution\n",
    "\t Testing continuous LP solution\n",
    "\t Testing maximize continuous LP solution\n",
    "\t Testing unbounded continuous LP solution\n",
    "\t Testing Long Names\n",
    "\t Testing repeated Names\n",
    "\t Testing zero constraint\n",
    "\t Testing zero objective\n",
    "\t Testing LpVariable (not LpAffineExpression) objective\n",
    "\t Testing LpAffineExpression divide\n",
    "\t Testing MIP solution\n",
    "\t Testing MIP solution with floats in objective\n",
    "\t Testing MIP relaxation\n",
    "\t Testing feasibility problem (no objective)\n",
    "\t Testing an infeasible problem\n",
    "\t Testing an integer infeasible problem\n",
    "\t Testing column based modelling\n",
    "\t Testing fractional constraints\n",
    "\t Testing elastic constraints (no change)\n",
    "\t Testing elastic constraints (freebound)\n",
    "\t Testing elastic constraints (penalty unchanged)\n",
    "\t Testing elastic constraints (penalty unbounded)\n",
    "* Solver pulp.solvers.GLPK_CMD passed.\n",
    "Solver pulp.solvers.XPRESS unavailable\n",
    "Solver pulp.solvers.GUROBI unavailable\n",
    "Solver pulp.solvers.GUROBI_CMD unavailable\n",
    "Solver pulp.solvers.PYGLPK unavailable\n",
    "Solver pulp.solvers.YAPOSIB unavailable"
   ]
  },
  {
   "cell_type": "code",
   "execution_count": null,
   "metadata": {
    "collapsed": false
   },
   "outputs": [],
   "source": [
    "from pulp import *\n",
    "\n",
    "pulp.pulpTestAll()"
   ]
  },
  {
   "cell_type": "markdown",
   "metadata": {},
   "source": [
    "# Toy Model Instance"
   ]
  },
  {
   "cell_type": "code",
   "execution_count": 30,
   "metadata": {
    "collapsed": false
   },
   "outputs": [
    {
     "name": "stdout",
     "output_type": "stream",
     "text": [
      "(x1,x2) is optimal at (50.0, 50.0)\n"
     ]
    }
   ],
   "source": [
    "from pulp import *\n",
    "\n",
    "\n",
    "\n",
    "# Decision variables\n",
    "x = [0, LpVariable(\"x1\", 0, 100), LpVariable(\"x2\", 0, 100)]\n",
    "# 0<= x1 <= 40 & 0<= x2 <= 1000\n",
    " \n",
    "# Setup Problem -- are LpMax and LpMin statics for 0,1 or -1,1?\n",
    "prob = LpProblem(\"problem\", LpMaximize)\n",
    " \n",
    "# Set up matrix A and vector b\n",
    "prob += 2*x[1]+x[2] <= 150\n",
    "prob += x[1]+x[2] <= 100\n",
    "prob += x[1]<=50\n",
    "#strictly necessary?\n",
    "prob += x[1]>=0\n",
    "prob += x[2]>=0\n",
    " \n",
    "# ObjFunc\n",
    "prob += 3*x[1]+2*x[2]\n",
    " \n",
    "# Pass to Solver\n",
    "status = prob.solve(GLPK(msg=0))\n",
    "LpStatus[status]\n",
    "\n",
    "\n",
    "# print the results x1 = 20, x2 = 60\n",
    "\n",
    "print(\"(x1,x2) is optimal at (\" + str(value(x[1])) + \", \"+ str(value(x[2])) + \")\" )\n"
   ]
  },
  {
   "cell_type": "code",
   "execution_count": null,
   "metadata": {
    "collapsed": false
   },
   "outputs": [],
   "source": []
  }
 ],
 "metadata": {
  "kernelspec": {
   "display_name": "Python 2",
   "language": "python",
   "name": "python2"
  },
  "language_info": {
   "codemirror_mode": {
    "name": "ipython",
    "version": 2
   },
   "file_extension": ".py",
   "mimetype": "text/x-python",
   "name": "python",
   "nbconvert_exporter": "python",
   "pygments_lexer": "ipython2",
   "version": "2.7.3"
  }
 },
 "nbformat": 4,
 "nbformat_minor": 0
}
