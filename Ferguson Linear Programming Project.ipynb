{
 "cells": [
  {
   "cell_type": "code",
   "execution_count": 1,
   "metadata": {
    "collapsed": false
   },
   "outputs": [
    {
     "ename": "SyntaxError",
     "evalue": "invalid syntax (<ipython-input-1-d5e901188df2>, line 1)",
     "output_type": "error",
     "traceback": [
      "\u001b[1;36m  File \u001b[1;32m\"<ipython-input-1-d5e901188df2>\"\u001b[1;36m, line \u001b[1;32m1\u001b[0m\n\u001b[1;33m    cd ~/Desktop/LinearProgramming\u001b[0m\n\u001b[1;37m       ^\u001b[0m\n\u001b[1;31mSyntaxError\u001b[0m\u001b[1;31m:\u001b[0m invalid syntax\n"
     ]
    }
   ],
   "source": [
    "cd ~/Desktop/LinearProgramming\n",
    "git commit\n",
    "git push origin master"
   ]
  },
  {
   "cell_type": "markdown",
   "metadata": {},
   "source": [
    "# Linear Programming (OPER 610) Project\n",
    "## MAJ Matthew Ferguson\n",
    "\n",
    "### Setup and test configuration\n",
    "The first requirement is to import necessary methods from PuLP.\n",
    "I've previously installed GNU LPK and the CBC Solver comes with PuLP. Gurobi is pending... hopefully that will be number three.  \n",
    "\n",
    "the first block of code tests for connectivity of the Solvers.  Ideally, the output should appear something like:\n",
    "\n",
    "Testing zero subtraction\n",
    "\t Testing inconsistant lp solution\n",
    "\t Testing continuous LP solution\n",
    "\t Testing maximize continuous LP solution\n",
    "\t Testing unbounded continuous LP solution\n",
    "\t Testing Long Names\n",
    "\t Testing repeated Names\n",
    "\t Testing zero constraint\n",
    "\t Testing zero objective\n",
    "\t Testing LpVariable (not LpAffineExpression) objective\n",
    "\t Testing Long lines in LP\n",
    "\t Testing LpAffineExpression divide\n",
    "\t Testing MIP solution\n",
    "\t Testing MIP solution with floats in objective\n",
    "\t Testing MIP relaxation\n",
    "\t Testing feasibility problem (no objective)\n",
    "\t Testing an infeasible problem\n",
    "\t Testing an integer infeasible problem\n",
    "\t Testing column based modelling\n",
    "\t Testing dual variables and slacks reporting\n",
    "\t Testing fractional constraints\n",
    "\t Testing elastic constraints (no change)\n",
    "\t Testing elastic constraints (freebound)\n",
    "\t Testing elastic constraints (penalty unchanged)\n",
    "\t Testing elastic constraints (penalty unbounded)\n",
    "* Solver pulp.solvers.PULP_CBC_CMD passed.\n",
    "Solver pulp.solvers.CPLEX_DLL unavailable\n",
    "Solver pulp.solvers.CPLEX_CMD unavailable\n",
    "Solver pulp.solvers.CPLEX_PY unavailable\n",
    "Solver pulp.solvers.COIN_CMD unavailable\n",
    "Solver pulp.solvers.COINMP_DLL unavailable\n",
    "\t Testing zero subtraction\n",
    "\t Testing inconsistant lp solution\n",
    "\t Testing continuous LP solution\n",
    "\t Testing maximize continuous LP solution\n",
    "\t Testing unbounded continuous LP solution\n",
    "\t Testing Long Names\n",
    "\t Testing repeated Names\n",
    "\t Testing zero constraint\n",
    "\t Testing zero objective\n",
    "\t Testing LpVariable (not LpAffineExpression) objective\n",
    "\t Testing LpAffineExpression divide\n",
    "\t Testing MIP solution\n",
    "\t Testing MIP solution with floats in objective\n",
    "\t Testing MIP relaxation\n",
    "\t Testing feasibility problem (no objective)\n",
    "\t Testing an infeasible problem\n",
    "\t Testing an integer infeasible problem\n",
    "\t Testing column based modelling\n",
    "\t Testing fractional constraints\n",
    "\t Testing elastic constraints (no change)\n",
    "\t Testing elastic constraints (freebound)\n",
    "\t Testing elastic constraints (penalty unchanged)\n",
    "\t Testing elastic constraints (penalty unbounded)\n",
    "* Solver pulp.solvers.GLPK_CMD passed.\n",
    "Solver pulp.solvers.XPRESS unavailable\n",
    "Solver pulp.solvers.GUROBI unavailable\n",
    "Solver pulp.solvers.GUROBI_CMD unavailable\n",
    "Solver pulp.solvers.PYGLPK unavailable\n",
    "Solver pulp.solvers.YAPOSIB unavailable"
   ]
  },
  {
   "cell_type": "code",
   "execution_count": 2,
   "metadata": {
    "collapsed": false
   },
   "outputs": [],
   "source": [
    "from pulp import *\n",
    "\n",
    "#CBC_cmd throws a pointer error..\n",
    "#pulp.pulpTestAll()"
   ]
  },
  {
   "cell_type": "markdown",
   "metadata": {},
   "source": [
    "# Toy Model Instance"
   ]
  },
  {
   "cell_type": "code",
   "execution_count": 1,
   "metadata": {
    "collapsed": false
   },
   "outputs": [
    {
     "name": "stdout",
     "output_type": "stream",
     "text": [
      "Optimal\n",
      "Optimal\n",
      "Optimal\n",
      "(x1,x2) is optimal at (50.0, 50.0)\n",
      "0.101843118668 seconds of CPU time (GLPK).\n",
      "0.0103008747101 seconds of CPU time (COIN/CBC).\n",
      "0.371429920197 seconds of CPU time (CPLEX).\n"
     ]
    }
   ],
   "source": [
    "%matplotlib inline\n",
    "import matplotlib.pyplot as pp\n",
    "import numpy as np\n",
    "from pulp import *\n",
    "import timeit\n",
    "\n",
    "# Decision variables\n",
    "x = [0, LpVariable(\"x1\", 0, 100), LpVariable(\"x2\", 0, 100)]\n",
    "# 0<= x1 <= 100 & 0<= x2 <= 100\n",
    " \n",
    "# Setup Problem -- are LpMax and LpMin statics for 0,1 or -1,1?\n",
    "p = LpProblem(\"problem\", LpMaximize)\n",
    " \n",
    "# Set up matrix A and vector b\n",
    "p += 2*x[1]+x[2] <= 150\n",
    "p += x[1]+x[2] <= 100\n",
    "p += x[1]<=50\n",
    "#strictly necessary?\n",
    "p += x[1]>=0\n",
    "p += x[2]>=0\n",
    " \n",
    "# ObjFunc\n",
    "p += 3*x[1]+2*x[2]\n",
    "\n",
    "Solvr = 0    \n",
    "time = []\n",
    "\n",
    "\n",
    "GNULPK = Solvr\n",
    "\n",
    "# Pass to GNU Solver\n",
    "start = timeit.default_timer()\n",
    "status = p.solve(GLPK(msg=0))\n",
    "time.append(timeit.default_timer() - start)\n",
    "print(LpStatus[status])\n",
    "\n",
    "\n",
    "Solvr +=1\n",
    "CBC = Solvr\n",
    "#CBC\n",
    "start = timeit.default_timer()\n",
    "status = p.solve()\n",
    "time.append(timeit.default_timer() - start)\n",
    "print(LpStatus[status])\n",
    "\n",
    "Solvr += 1\n",
    "GUR = Solvr\n",
    "\n",
    "#CPLEX\n",
    "start = timeit.default_timer()\n",
    "status = p.solve(CPLEX(msg=0))\n",
    "time.append(timeit.default_timer() - start)\n",
    "print(LpStatus[status])\n",
    "\n",
    "\n",
    "\n",
    "#GUROBI\n",
    "# Pull license with grbgetkey from an academic ip address\n",
    "# call for second test license\n",
    "\n",
    "print(\"(x1,x2) is optimal at (\" + str(value(x[1])) + \", \"+ str(value(x[2])) + \")\" )\n",
    "print(str(time[0]) + \" seconds of CPU time (GLPK).\")\n",
    "print(str(time[1]) + \" seconds of CPU time (COIN/CBC).\")\n",
    "print(str(time[2]) + \" seconds of CPU time (CPLEX).\")\n"
   ]
  },
  {
   "cell_type": "code",
   "execution_count": 15,
   "metadata": {
    "collapsed": false
   },
   "outputs": [
    {
     "data": {
      "image/png": "[encoded data removed]",
      "text/plain": [
       "<matplotlib.figure.Figure at 0x7f174c8f0590>"
      ]
     },
     "metadata": {},
     "output_type": "display_data"
    }
   ],
   "source": [
    "\n",
    "\n",
    "\n",
    "#import bokeh\n",
    "pp.xkcd()\n",
    "ind = np.arange(3)\n",
    "chart_1 = pp.bar(ind, time)\n",
    "pp.xticks(ind+.8/2,  (\"GNU\", \"CBC\", \"CPLEX\"))\n",
    "pp.show()\n",
    "\n",
    "#print(time)\n",
    "\n"
   ]
  },
  {
   "cell_type": "code",
   "execution_count": null,
   "metadata": {
    "collapsed": false
   },
   "outputs": [],
   "source": [
    "\n"
   ]
  },
  {
   "cell_type": "markdown",
   "metadata": {},
   "source": [
    "### Now trying the pyomo package"
   ]
  },
  {
   "cell_type": "code",
   "execution_count": 1,
   "metadata": {
    "collapsed": false
   },
   "outputs": [],
   "source": [
    "import pyomo\n",
    "\n",
    "s = open('pyomoTest.py', 'a+')\n",
    "\n",
    "s.write('from pyomo.environ import * \\n')\n",
    "#just in-case we use integer values\n",
    "s.write('from __future__ import division \\n\\n')\n",
    "\n",
    "from pyomo.environ import *\n",
    "from __future__ import division\n",
    "\n",
    "s.write('p = AbstractModel()\\n\\n')\n",
    "p = AbstractModel()\n",
    "\n",
    "s.write('p.m = Param(within=NonNegativeIntegers)\\n')\n",
    "s.write('p.n = Param(within=NonNegativeIntegers)\\n\\n')\n",
    "p.m = Param(within=NonNegativeIntegers)\n",
    "p.n = Param(within=NonNegativeIntegers)\n",
    "\n",
    "s.write('p.I = Set()\\n')\n",
    "s.write('p.J = Set()\\n\\n')\n",
    "p.I = Set()\n",
    "p.J = Set()\n",
    "\n",
    "s.write('p.a = Param(p.I, p.J)\\np.b = Param(p.I)\\np.c = Param(p.J)\\n\\n')\n",
    "p.a = Param(p.I, p.J)\n",
    "p.b = Param(p.I)\n",
    "p.c = Param(p.J)\n",
    "\n",
    "s.write('p.x = Var(p.J, domain=NonNegativeReals)\\n')\n",
    "p.x = Var(p.J, domain=NonNegativeReals)\n",
    "\n",
    "s.write('def obj_function(p):\\n\\treturn summation(p.c, p.a)\\n\\n')\n",
    "\n",
    "def obj_function(p):\n",
    "    return summation(p.c, p.a) #objfunc = sum of c_i * x_i over i\n",
    "\n",
    "s.write('p.OBJ = Objective(rule=obj_function, sense=maximize)\\n')\n",
    "p.OBJ = Objective(rule=obj_function, sense=maximize)\n",
    "\n",
    "s.write('def const_expression(p, i):\\n\\treturn sum(p.a[i,j] * p.x[j] for i in p.J) <= p.b[i]\\n\\n')\n",
    "def const_expression(p, i):\n",
    "    return sum(p.a[i,j] * p.x[j] for j in p.J) <= p.b[i]\n",
    "\n",
    "s.write('p.AxbConstraint = Constraint(p.I, rule=const_expression)\\n')\n",
    "p.AxbConstraint = Constraint(p.I, rule=const_expression)\n",
    "\n",
    "s.close()\n"
   ]
  },
  {
   "cell_type": "code",
   "execution_count": null,
   "metadata": {
    "collapsed": false
   },
   "outputs": [],
   "source": [
    "\n",
    "s = open('pyomoTest.dat', 'a+')\n",
    "\n",
    "s.write('set I := 1 2 3 ;\\nset J := 1 2 ;\\n\\n')\n",
    "s.write('param a :=\\n1 1 2\\n1 2 1\\n2 1 1\\n 2 2 1\\n3 1 1\\n3 2 0\\n;\\n\\n')\n",
    "     \n",
    "s.write('param c :=\\n1 3\\n2 2\\n;\\n\\n')\n",
    "s.write('param b :=\\n1 150\\n2 100\\n3 50\\n;\\n\\n')\n",
    "\n",
    "s.close()"
   ]
  },
  {
   "cell_type": "code",
   "execution_count": null,
   "metadata": {
    "collapsed": false
   },
   "outputs": [],
   "source": [
    "from pyomo.environ import * \n",
    "from __future__ import division \n",
    "\n",
    "p = AbstractModel()\n",
    "\n",
    "p.m = Param(within=NonNegativeIntegers)\n",
    "p.n = Param(within=NonNegativeIntegers)\n",
    "\n",
    "p.I = Set()\n",
    "p.J = Set()\n",
    "\n",
    "p.a = Param(p.I, p.J)\n",
    "p.b = Param(p.I)\n",
    "p.c = Param(p.J)\n",
    "\n",
    "p.x = Var(p.J, domain=NonNegativeReals)\n",
    "def obj_function(p):\n",
    "\treturn summation(p.c, p.a)\n",
    "\n",
    "p.OBJ = Objective(rule=obj_function, sense=maximize)\n",
    "def const_expression(p, i):\n",
    "\treturn sum(p.a[i,j] * p.x[j] for i in p.J) <= p.b[i]\n",
    "\n",
    "p.AxbConstraint = Constraint(p.I, rule=const_expression)\n",
    "\n",
    "\n",
    "\n",
    "##---------------------------------------------------\n",
    "##---------------------------------------------------\n",
    "\n",
    "from pyomo.opt import SolverFactory\n",
    "opt = SolverFactory('glpk')\n",
    "\n",
    "problem = p.create_instance()\n",
    "result = opt.solve(problem)\n",
    "\n",
    "print(result)\n"
   ]
  },
  {
   "cell_type": "code",
   "execution_count": null,
   "metadata": {
    "collapsed": false
   },
   "outputs": [],
   "source": [
    "pyomo solve pyomoTest.py pyomoTest.dat"
   ]
  },
  {
   "cell_type": "markdown",
   "metadata": {},
   "source": [
    "## Pyomo kind of sucks... can't script easily\n",
    "\n",
    "Build out of Concrete Model sucks for scripting\n",
    "Abstract model with AMPL input can work, but\n",
    "    AbstractModel() is touchy...  getting error raised by parser with pyomo_create_model\n",
    "    \n",
    "    \n"
   ]
  },
  {
   "cell_type": "markdown",
   "metadata": {},
   "source": [
    "So.  Starting a looped process to place data in a multidimensional list (array).\n",
    "\n",
    "We should loop through...\n",
    "\n",
    "Solvers (GLPK, CBC, Solver) and record problem duration.\n",
    "\n"
   ]
  },
  {
   "cell_type": "code",
   "execution_count": null,
   "metadata": {
    "collapsed": false
   },
   "outputs": [],
   "source": [
    "import numpy, timeit\n",
    "from pulp import *\n",
    "\n",
    "Alice = numpy.random.randint(0, 100, (30, 30, 30))\n",
    "Eigen = numpy.random.randint(1,100,30)\n",
    "\n",
    "print(Eigen)\n",
    "print(Eigen[1])\n",
    "\n",
    "#insert bunch of orthogonalization here..\n",
    "Alice = numpy.transpose(Alice) * numpy.diag(Eigen) * Alice\n",
    "#Since All of Alice's eigenvalues are positive,\n",
    "#Alice is now a positive definite matrix, and so\n",
    "# since 0 is not an Eigenvalue, Alice is invertible.\n",
    "\n",
    "Bob = numpy.random.randint(1, 20, (30, 30, 1))\n",
    "Chuck = numpy.random.randint(-10,20, (30,1,30))\n",
    "\n",
    "SOLVERS = {\"CBC\", \"GLPK\", \"CPLEX\"}\n",
    "\n",
    "def solve_CBC(p):\n",
    "    \"Solves model using CBC Solver\"\n",
    "    start = timeit.default_timer()\n",
    "    status = p.solve()\n",
    "    return (status, timeit.default_timer() - start)\n",
    "\n",
    "def solve_GLPK(p):\n",
    "    \"Solves with GNU LPK\"\n",
    "    start = timeit.default_timer()\n",
    "    status = p.solve(GLPK(msg=0))\n",
    "    return (timeit.default_timer() - start)\n",
    "    \n",
    "def solve_CPLEX(p):\n",
    "    \"Solves with CPLEX\"\n",
    "    start = timeit.default_timer()\n",
    "    status = p.solve(CPLEX(msg=0))\n",
    "    return (timeit.default_timer() - start)\n",
    "\n",
    "I = range(0,29)\n",
    "\n",
    "for i in I:\n",
    "    qnum = \"Problem\" + str(i)\n",
    "    q = LpProblem(qnum, LpMinimize)\n",
    "    y = LpVariable.dicts('y_%s', I, lowBound = 0 )\n",
    "    cost = dict(zip(I, Chuck))\n",
    "    q += sum(cost[j] * y[j] for j in I)\n",
    "    \n",
    "    \n",
    "    for n in range(0,29):\n",
    "            q += sum([Alice[i][n][j] * y[j] for i in I]) >= Bob[n]\n",
    "    \n",
    "    (status, GLPKtime[i]) = solve_GLPK(q)\n",
    "    print(LpStatus[Status])\n",
    "    CBC_time[i] = solve_CBC(q)\n",
    "    CPLEX_time[i] = solve_CPLEX(q)\n"
   ]
  }
 ],
 "metadata": {
  "kernelspec": {
   "display_name": "Python 2",
   "language": "python",
   "name": "python2"
  },
  "language_info": {
   "codemirror_mode": {
    "name": "ipython",
    "version": 2
   },
   "file_extension": ".py",
   "mimetype": "text/x-python",
   "name": "python",
   "nbconvert_exporter": "python",
   "pygments_lexer": "ipython2",
   "version": "2.7.11"
  }
 },
 "nbformat": 4,
 "nbformat_minor": 0
}
