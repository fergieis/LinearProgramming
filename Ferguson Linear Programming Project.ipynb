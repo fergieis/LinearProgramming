{
 "cells": [
  {
   "cell_type": "markdown",
   "metadata": {},
   "source": [
    "## Linear Programming (OPER 610) Project\n",
    "## MAJ Matthew Ferguson\n",
    "\n",
    "#Setup and test configuration\n",
    "The first requirement is to import necessary methods from PuLP.\n",
    "I've previously installed GNU LPK and the CBC Solver comes with PuLP. Gurobi is pending... hopefully that will be number three.  \n",
    "\n",
    "the first block of code tests for connectivity of the Solvers.  Ideally, the output should appear something like:\n",
    "\n",
    "Testing zero subtraction\n",
    "\t Testing inconsistant lp solution\n",
    "\t Testing continuous LP solution\n",
    "\t Testing maximize continuous LP solution\n",
    "\t Testing unbounded continuous LP solution\n",
    "\t Testing Long Names\n",
    "\t Testing repeated Names\n",
    "\t Testing zero constraint\n",
    "\t Testing zero objective\n",
    "\t Testing LpVariable (not LpAffineExpression) objective\n",
    "\t Testing Long lines in LP\n",
    "\t Testing LpAffineExpression divide\n",
    "\t Testing MIP solution\n",
    "\t Testing MIP solution with floats in objective\n",
    "\t Testing MIP relaxation\n",
    "\t Testing feasibility problem (no objective)\n",
    "\t Testing an infeasible problem\n",
    "\t Testing an integer infeasible problem\n",
    "\t Testing column based modelling\n",
    "\t Testing dual variables and slacks reporting\n",
    "\t Testing fractional constraints\n",
    "\t Testing elastic constraints (no change)\n",
    "\t Testing elastic constraints (freebound)\n",
    "\t Testing elastic constraints (penalty unchanged)\n",
    "\t Testing elastic constraints (penalty unbounded)\n",
    "* Solver pulp.solvers.PULP_CBC_CMD passed.\n",
    "Solver pulp.solvers.CPLEX_DLL unavailable\n",
    "Solver pulp.solvers.CPLEX_CMD unavailable\n",
    "Solver pulp.solvers.CPLEX_PY unavailable\n",
    "Solver pulp.solvers.COIN_CMD unavailable\n",
    "Solver pulp.solvers.COINMP_DLL unavailable\n",
    "\t Testing zero subtraction\n",
    "\t Testing inconsistant lp solution\n",
    "\t Testing continuous LP solution\n",
    "\t Testing maximize continuous LP solution\n",
    "\t Testing unbounded continuous LP solution\n",
    "\t Testing Long Names\n",
    "\t Testing repeated Names\n",
    "\t Testing zero constraint\n",
    "\t Testing zero objective\n",
    "\t Testing LpVariable (not LpAffineExpression) objective\n",
    "\t Testing LpAffineExpression divide\n",
    "\t Testing MIP solution\n",
    "\t Testing MIP solution with floats in objective\n",
    "\t Testing MIP relaxation\n",
    "\t Testing feasibility problem (no objective)\n",
    "\t Testing an infeasible problem\n",
    "\t Testing an integer infeasible problem\n",
    "\t Testing column based modelling\n",
    "\t Testing fractional constraints\n",
    "\t Testing elastic constraints (no change)\n",
    "\t Testing elastic constraints (freebound)\n",
    "\t Testing elastic constraints (penalty unchanged)\n",
    "\t Testing elastic constraints (penalty unbounded)\n",
    "* Solver pulp.solvers.GLPK_CMD passed.\n",
    "Solver pulp.solvers.XPRESS unavailable\n",
    "Solver pulp.solvers.GUROBI unavailable\n",
    "Solver pulp.solvers.GUROBI_CMD unavailable\n",
    "Solver pulp.solvers.PYGLPK unavailable\n",
    "Solver pulp.solvers.YAPOSIB unavailable"
   ]
  },
  {
   "cell_type": "code",
   "execution_count": null,
   "metadata": {
    "collapsed": false
   },
   "outputs": [],
   "source": [
    "from pulp import *\n",
    "\n",
    "pulp.pulpTestAll()"
   ]
  },
  {
   "cell_type": "markdown",
   "metadata": {},
   "source": [
    "# Toy Model Instance"
   ]
  },
  {
   "cell_type": "code",
   "execution_count": 16,
   "metadata": {
    "collapsed": false
   },
   "outputs": [
    {
     "name": "stdout",
     "output_type": "stream",
     "text": [
      "Optimal\n",
      "Optimal\n",
      "(x1,x2) is optimal at (50.0, 50.0)\n",
      "0.00699305534363 seconds of CPU time (GLPK).\n",
      "0.0056779384613 seconds of CPU time (COIN/CBC).\n"
     ]
    }
   ],
   "source": [
    "from pulp import *\n",
    "import timeit\n",
    "\n",
    "# Decision variables\n",
    "x = [0, LpVariable(\"x1\", 0, 100), LpVariable(\"x2\", 0, 100)]\n",
    "# 0<= x1 <= 40 & 0<= x2 <= 1000\n",
    " \n",
    "# Setup Problem -- are LpMax and LpMin statics for 0,1 or -1,1?\n",
    "p = LpProblem(\"problem\", LpMaximize)\n",
    " \n",
    "# Set up matrix A and vector b\n",
    "p += 2*x[1]+x[2] <= 150\n",
    "p += x[1]+x[2] <= 100\n",
    "p += x[1]<=50\n",
    "#strictly necessary?\n",
    "p += x[1]>=0\n",
    "p += x[2]>=0\n",
    " \n",
    "# ObjFunc\n",
    "p += 3*x[1]+2*x[2]\n",
    "\n",
    "Solvr = 0    \n",
    "time = [0]\n",
    "\n",
    "\n",
    "Solvr += 1\n",
    "GNULPK = Solvr\n",
    "\n",
    "# Pass to GNU Solver\n",
    "start = timeit.default_timer()\n",
    "status = p.solve(GLPK(msg=0))\n",
    "time.append(timeit.default_timer() - start)\n",
    "print(LpStatus[status])\n",
    "\n",
    "\n",
    "Solvr +=1\n",
    "CBC = Solvr\n",
    "#CBC\n",
    "start = timeit.default_timer()\n",
    "status = p.solve()\n",
    "time.append(timeit.default_timer() - start)\n",
    "print(LpStatus[status])\n",
    "\n",
    "Solvr += 1\n",
    "GUR = Solvr\n",
    "\n",
    "#GUROBI\n",
    "# Pull license with grbgetkey\n",
    "\n",
    "\n",
    "\n",
    "print(\"(x1,x2) is optimal at (\" + str(value(x[1])) + \", \"+ str(value(x[2])) + \")\" )\n",
    "print(str(time[1]) + \" seconds of CPU time (GLPK).\")\n",
    "print(str(time[2]) + \" seconds of CPU time (COIN/CBC).\")\n",
    "\n"
   ]
  },
  {
   "cell_type": "code",
   "execution_count": null,
   "metadata": {
    "collapsed": false
   },
   "outputs": [],
   "source": []
  }
 ],
 "metadata": {
  "kernelspec": {
   "display_name": "Python 2",
   "language": "python",
   "name": "python2"
  },
  "language_info": {
   "codemirror_mode": {
    "name": "ipython",
    "version": 2
   },
   "file_extension": ".py",
   "mimetype": "text/x-python",
   "name": "python",
   "nbconvert_exporter": "python",
   "pygments_lexer": "ipython2",
   "version": "2.7.3"
  }
 },
 "nbformat": 4,
 "nbformat_minor": 0
}
