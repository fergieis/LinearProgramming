{
 "cells": [
  {
   "cell_type": "code",
   "execution_count": null,
   "metadata": {
    "collapsed": true
   },
   "outputs": [],
   "source": [
    "cd ~/Desktop/LinearProgramming\n",
    "git commit\n",
    "git push origin master"
   ]
  },
  {
   "cell_type": "markdown",
   "metadata": {},
   "source": [
    "# Linear Programming (OPER 610) Project\n",
    "## MAJ Matthew Ferguson\n",
    "\n",
    "### Setup and test configuration\n",
    "The first requirement is to import necessary methods from PuLP.\n",
    "I've previously installed GNU LPK and the CBC Solver comes with PuLP. Gurobi is pending... hopefully that will be number three.  \n",
    "\n",
    "the first block of code tests for connectivity of the Solvers.  Ideally, the output should appear something like:\n",
    "\n",
    "Testing zero subtraction\n",
    "\t Testing inconsistant lp solution\n",
    "\t Testing continuous LP solution\n",
    "\t Testing maximize continuous LP solution\n",
    "\t Testing unbounded continuous LP solution\n",
    "\t Testing Long Names\n",
    "\t Testing repeated Names\n",
    "\t Testing zero constraint\n",
    "\t Testing zero objective\n",
    "\t Testing LpVariable (not LpAffineExpression) objective\n",
    "\t Testing Long lines in LP\n",
    "\t Testing LpAffineExpression divide\n",
    "\t Testing MIP solution\n",
    "\t Testing MIP solution with floats in objective\n",
    "\t Testing MIP relaxation\n",
    "\t Testing feasibility problem (no objective)\n",
    "\t Testing an infeasible problem\n",
    "\t Testing an integer infeasible problem\n",
    "\t Testing column based modelling\n",
    "\t Testing dual variables and slacks reporting\n",
    "\t Testing fractional constraints\n",
    "\t Testing elastic constraints (no change)\n",
    "\t Testing elastic constraints (freebound)\n",
    "\t Testing elastic constraints (penalty unchanged)\n",
    "\t Testing elastic constraints (penalty unbounded)\n",
    "* Solver pulp.solvers.PULP_CBC_CMD passed.\n",
    "Solver pulp.solvers.CPLEX_DLL unavailable\n",
    "Solver pulp.solvers.CPLEX_CMD unavailable\n",
    "Solver pulp.solvers.CPLEX_PY unavailable\n",
    "Solver pulp.solvers.COIN_CMD unavailable\n",
    "Solver pulp.solvers.COINMP_DLL unavailable\n",
    "\t Testing zero subtraction\n",
    "\t Testing inconsistant lp solution\n",
    "\t Testing continuous LP solution\n",
    "\t Testing maximize continuous LP solution\n",
    "\t Testing unbounded continuous LP solution\n",
    "\t Testing Long Names\n",
    "\t Testing repeated Names\n",
    "\t Testing zero constraint\n",
    "\t Testing zero objective\n",
    "\t Testing LpVariable (not LpAffineExpression) objective\n",
    "\t Testing LpAffineExpression divide\n",
    "\t Testing MIP solution\n",
    "\t Testing MIP solution with floats in objective\n",
    "\t Testing MIP relaxation\n",
    "\t Testing feasibility problem (no objective)\n",
    "\t Testing an infeasible problem\n",
    "\t Testing an integer infeasible problem\n",
    "\t Testing column based modelling\n",
    "\t Testing fractional constraints\n",
    "\t Testing elastic constraints (no change)\n",
    "\t Testing elastic constraints (freebound)\n",
    "\t Testing elastic constraints (penalty unchanged)\n",
    "\t Testing elastic constraints (penalty unbounded)\n",
    "* Solver pulp.solvers.GLPK_CMD passed.\n",
    "Solver pulp.solvers.XPRESS unavailable\n",
    "Solver pulp.solvers.GUROBI unavailable\n",
    "Solver pulp.solvers.GUROBI_CMD unavailable\n",
    "Solver pulp.solvers.PYGLPK unavailable\n",
    "Solver pulp.solvers.YAPOSIB unavailable"
   ]
  },
  {
   "cell_type": "code",
   "execution_count": 23,
   "metadata": {
    "collapsed": false
   },
   "outputs": [
    {
     "name": "stdout",
     "output_type": "stream",
     "text": [
      "\t Testing zero subtraction\n",
      "\t Testing inconsistant lp solution\n",
      "\t Testing continuous LP solution\n",
      "\t Testing maximize continuous LP solution\n",
      "\t Testing unbounded continuous LP solution\n",
      "\t Testing Long Names\n",
      "\t Testing repeated Names\n",
      "\t Testing zero constraint\n",
      "\t Testing zero objective\n",
      "\t Testing LpVariable (not LpAffineExpression) objective\n",
      "\t Testing Long lines in LP\n",
      "\t Testing LpAffineExpression divide\n",
      "\t Testing MIP solution\n",
      "\t Testing MIP solution with floats in objective\n",
      "\t Testing MIP relaxation\n",
      "\t Testing feasibility problem (no objective)\n",
      "\t Testing an infeasible problem\n",
      "\t Testing an integer infeasible problem\n",
      "\t Testing column based modelling\n",
      "\t Testing dual variables and slacks reporting\n",
      "\t Testing fractional constraints\n",
      "\t Testing elastic constraints (no change)\n",
      "\t Testing elastic constraints (freebound)\n",
      "\t Testing elastic constraints (penalty unchanged)\n",
      "\t Testing elastic constraints (penalty unbounded)\n",
      "* Solver pulp.solvers.PULP_CBC_CMD passed.\n",
      "Solver pulp.solvers.CPLEX_DLL unavailable\n",
      "Solver pulp.solvers.CPLEX_CMD unavailable\n",
      "Solver pulp.solvers.CPLEX_PY unavailable\n",
      "\t Testing zero subtraction\n",
      "\t Testing inconsistant lp solution\n",
      "\t Testing continuous LP solution\n",
      "\t Testing maximize continuous LP solution\n",
      "\t Testing unbounded continuous LP solution\n",
      "\t Testing Long Names\n",
      "\t Testing repeated Names\n",
      "\t Testing zero constraint\n",
      "\t Testing zero objective\n",
      "\t Testing LpVariable (not LpAffineExpression) objective\n",
      "\t Testing Long lines in LP\n",
      "\t Testing LpAffineExpression divide\n",
      "\t Testing MIP solution\n",
      "\t Testing MIP solution with floats in objective\n",
      "\t Testing MIP relaxation\n",
      "\t Testing feasibility problem (no objective)\n",
      "\t Testing an infeasible problem\n",
      "\t Testing an integer infeasible problem\n",
      "Pulp: Error while trying to execute cbc\n",
      "('* Solver', <class pulp.solvers.COIN_CMD at 0x7f227a09a3f8>, 'failed.')\n",
      "Solver pulp.solvers.COINMP_DLL unavailable\n",
      "\t Testing zero subtraction\n",
      "\t Testing inconsistant lp solution\n",
      "\t Testing continuous LP solution\n",
      "\t Testing maximize continuous LP solution\n",
      "\t Testing unbounded continuous LP solution\n",
      "\t Testing Long Names\n",
      "\t Testing repeated Names\n",
      "\t Testing zero constraint\n",
      "\t Testing zero objective\n",
      "\t Testing LpVariable (not LpAffineExpression) objective\n",
      "\t Testing LpAffineExpression divide\n",
      "\t Testing MIP solution\n",
      "\t Testing MIP solution with floats in objective\n",
      "\t Testing MIP relaxation\n",
      "\t Testing feasibility problem (no objective)\n",
      "\t Testing an infeasible problem\n",
      "\t Testing an integer infeasible problem\n",
      "\t Testing column based modelling\n",
      "\t Testing fractional constraints\n",
      "\t Testing elastic constraints (no change)\n",
      "\t Testing elastic constraints (freebound)\n",
      "\t Testing elastic constraints (penalty unchanged)\n",
      "\t Testing elastic constraints (penalty unbounded)\n",
      "* Solver pulp.solvers.GLPK_CMD passed.\n",
      "Solver pulp.solvers.XPRESS unavailable\n",
      "Solver pulp.solvers.GUROBI unavailable\n",
      "Solver pulp.solvers.GUROBI_CMD unavailable\n",
      "Solver pulp.solvers.PYGLPK unavailable\n",
      "Solver pulp.solvers.YAPOSIB unavailable\n"
     ]
    },
    {
     "ename": "PulpError",
     "evalue": "Tests Failed",
     "output_type": "error",
     "traceback": [
      "\u001b[1;31m---------------------------------------------------------------------------\u001b[0m",
      "\u001b[1;31mPulpError\u001b[0m                                 Traceback (most recent call last)",
      "\u001b[1;32m<ipython-input-23-d0d4039dd333>\u001b[0m in \u001b[0;36m<module>\u001b[1;34m()\u001b[0m\n\u001b[0;32m      1\u001b[0m \u001b[1;32mfrom\u001b[0m \u001b[0mpulp\u001b[0m \u001b[1;32mimport\u001b[0m \u001b[1;33m*\u001b[0m\u001b[1;33m\u001b[0m\u001b[0m\n\u001b[0;32m      2\u001b[0m \u001b[1;33m\u001b[0m\u001b[0m\n\u001b[1;32m----> 3\u001b[1;33m \u001b[0mpulp\u001b[0m\u001b[1;33m.\u001b[0m\u001b[0mpulpTestAll\u001b[0m\u001b[1;33m(\u001b[0m\u001b[1;33m)\u001b[0m\u001b[1;33m\u001b[0m\u001b[0m\n\u001b[0m",
      "\u001b[1;32m/home/fergieis/anaconda2/lib/python2.7/site-packages/pulp/pulp.pyc\u001b[0m in \u001b[0;36mpulpTestAll\u001b[1;34m()\u001b[0m\n\u001b[0;32m   2281\u001b[0m             \u001b[1;32mprint\u001b[0m\u001b[1;33m(\u001b[0m\u001b[1;34m\"Solver %s unavailable\"\u001b[0m \u001b[1;33m%\u001b[0m \u001b[0ms\u001b[0m\u001b[1;33m)\u001b[0m\u001b[1;33m\u001b[0m\u001b[0m\n\u001b[0;32m   2282\u001b[0m     \u001b[1;32mif\u001b[0m \u001b[0mfailed\u001b[0m\u001b[1;33m:\u001b[0m\u001b[1;33m\u001b[0m\u001b[0m\n\u001b[1;32m-> 2283\u001b[1;33m         \u001b[1;32mraise\u001b[0m \u001b[0mPulpError\u001b[0m\u001b[1;33m(\u001b[0m\u001b[1;34m\"Tests Failed\"\u001b[0m\u001b[1;33m)\u001b[0m\u001b[1;33m\u001b[0m\u001b[0m\n\u001b[0m\u001b[0;32m   2284\u001b[0m \u001b[1;33m\u001b[0m\u001b[0m\n\u001b[0;32m   2285\u001b[0m \u001b[1;32mdef\u001b[0m \u001b[0mpulpDoctest\u001b[0m\u001b[1;33m(\u001b[0m\u001b[1;33m)\u001b[0m\u001b[1;33m:\u001b[0m\u001b[1;33m\u001b[0m\u001b[0m\n",
      "\u001b[1;31mPulpError\u001b[0m: Tests Failed"
     ]
    }
   ],
   "source": [
    "from pulp import *\n",
    "\n",
    "pulp.pulpTestAll()"
   ]
  },
  {
   "cell_type": "markdown",
   "metadata": {},
   "source": [
    "# Toy Model Instance"
   ]
  },
  {
   "cell_type": "code",
   "execution_count": 1,
   "metadata": {
    "collapsed": false
   },
   "outputs": [
    {
     "name": "stdout",
     "output_type": "stream",
     "text": [
      "Optimal\n",
      "Optimal\n",
      "Optimal\n",
      "(x1,x2) is optimal at (50.0, 50.0)\n",
      "0.00716996192932 seconds of CPU time (GLPK).\n",
      "0.00944709777832 seconds of CPU time (COIN/CBC).\n",
      "0.00285410881042 seconds of CPU time (CPLEX).\n"
     ]
    }
   ],
   "source": [
    "from pulp import *\n",
    "import timeit\n",
    "\n",
    "# Decision variables\n",
    "x = [0, LpVariable(\"x1\", 0, 100), LpVariable(\"x2\", 0, 100)]\n",
    "# 0<= x1 <= 100 & 0<= x2 <= 100\n",
    " \n",
    "# Setup Problem -- are LpMax and LpMin statics for 0,1 or -1,1?\n",
    "p = LpProblem(\"problem\", LpMaximize)\n",
    " \n",
    "# Set up matrix A and vector b\n",
    "p += 2*x[1]+x[2] <= 150\n",
    "p += x[1]+x[2] <= 100\n",
    "p += x[1]<=50\n",
    "#strictly necessary?\n",
    "p += x[1]>=0\n",
    "p += x[2]>=0\n",
    " \n",
    "# ObjFunc\n",
    "p += 3*x[1]+2*x[2]\n",
    "\n",
    "Solvr = 0    \n",
    "time = [0]\n",
    "\n",
    "Solvr += 1\n",
    "GNULPK = Solvr\n",
    "\n",
    "# Pass to GNU Solver\n",
    "start = timeit.default_timer()\n",
    "status = p.solve(GLPK(msg=0))\n",
    "time.append(timeit.default_timer() - start)\n",
    "print(LpStatus[status])\n",
    "\n",
    "\n",
    "Solvr +=1\n",
    "CBC = Solvr\n",
    "#CBC\n",
    "start = timeit.default_timer()\n",
    "status = p.solve()\n",
    "time.append(timeit.default_timer() - start)\n",
    "print(LpStatus[status])\n",
    "\n",
    "Solvr += 1\n",
    "GUR = Solvr\n",
    "\n",
    "#CBC\n",
    "start = timeit.default_timer()\n",
    "status = p.solve(CPLEX(msg=0))\n",
    "time.append(timeit.default_timer() - start)\n",
    "print(LpStatus[status])\n",
    "\n",
    "\n",
    "\n",
    "#GUROBI\n",
    "# Pull license with grbgetkey from an academic ip address\n",
    "# call for second test license\n",
    "\n",
    "print(\"(x1,x2) is optimal at (\" + str(value(x[1])) + \", \"+ str(value(x[2])) + \")\" )\n",
    "print(str(time[1]) + \" seconds of CPU time (GLPK).\")\n",
    "print(str(time[2]) + \" seconds of CPU time (COIN/CBC).\")\n",
    "print(str(time[3]) + \" seconds of CPU time (CPLEX).\")\n"
   ]
  },
  {
   "cell_type": "markdown",
   "metadata": {},
   "source": [
    "### Now trying the pyomo package"
   ]
  },
  {
   "cell_type": "code",
   "execution_count": 12,
   "metadata": {
    "collapsed": false
   },
   "outputs": [],
   "source": [
    "import pyomo\n",
    "\n",
    "s = open('pyomoTest.py', 'a+')\n",
    "\n",
    "s.write('from pyomo.environ import * \\n')\n",
    "#just in-case we use integer values\n",
    "s.write('from __future__ import division \\n\\n')\n",
    "\n",
    "from pyomo.environ import *\n",
    "from __future__ import division\n",
    "\n",
    "s.write('p = AbstractModel()\\n\\n')\n",
    "p = AbstractModel()\n",
    "\n",
    "s.write('p.m = Param(within=NonNegativeIntegers)\\n')\n",
    "s.write('p.n = Param(within=NonNegativeIntegers)\\n\\n')\n",
    "p.m = Param(within=NonNegativeIntegers)\n",
    "p.n = Param(within=NonNegativeIntegers)\n",
    "\n",
    "s.write('p.I = Set()\\n')\n",
    "s.write('p.J = Set()\\n\\n')\n",
    "p.I = Set()\n",
    "p.J = Set()\n",
    "\n",
    "s.write('p.a = Param(p.I, p.J)\\np.b = Param(p.I)\\np.c = Param(p.J)\\n\\n')\n",
    "p.a = Param(p.I, p.J)\n",
    "p.b = Param(p.I)\n",
    "p.c = Param(p.J)\n",
    "\n",
    "s.write('p.x = Var(p.J, domain=NonNegativeReals)\\n')\n",
    "p.x = Var(p.J, domain=NonNegativeReals)\n",
    "\n",
    "s.write('def obj_function(p):\\n\\treturn summation(p.c, p.a)\\n\\n')\n",
    "\n",
    "def obj_function(p):\n",
    "    return summation(p.c, p.a) #objfunc = sum of c_i * x_i over i\n",
    "\n",
    "s.write('p.OBJ = Objective(rule=obj_function, sense=maximize)\\n')\n",
    "p.OBJ = Objective(rule=obj_function, sense=maximize)\n",
    "\n",
    "s.write('def const_expression(p, i):\\n\\treturn sum(p.a[i,j] * p.x[j] for i in p.J) <= p.b[i]\\n\\n')\n",
    "def const_expression(p, i):\n",
    "    return sum(p.a[i,j] * p.x[j] for j in p.J) <= p.b[i]\n",
    "\n",
    "s.write('p.AxbConstraint = Constraint(p.I, rule=const_expression)\\n')\n",
    "p.AxbConstraint = Constraint(p.I, rule=const_expression)\n",
    "\n",
    "s.close()\n"
   ]
  },
  {
   "cell_type": "code",
   "execution_count": 16,
   "metadata": {
    "collapsed": false
   },
   "outputs": [
    {
     "name": "stdout",
     "output_type": "stream",
     "text": [
      "hi\n"
     ]
    }
   ],
   "source": [
    "\n",
    "s = open('pyomoTest.dat', 'a+')\n",
    "\n",
    "s.write('set I := 1 2 3 ;\\nset J := 1 2 ;\\n\\n')\n",
    "s.write('param a :=\\n1 1 2\\n1 2 1\\n2 1 1\\n 2 2 1\\n3 1 1\\n3 2 0\\n;\\n\\n')\n",
    "     \n",
    "s.write('param c :=\\n1 3\\n2 2\\n;\\n\\n')\n",
    "s.write('param b :=\\n1 150\\n2 100\\n3 50\\n;\\n\\n')\n",
    "\n",
    "s.close()"
   ]
  },
  {
   "cell_type": "code",
   "execution_count": 22,
   "metadata": {
    "collapsed": false
   },
   "outputs": [
    {
     "name": "stderr",
     "output_type": "stream",
     "text": [
      "ERROR:pyomo.core:Rule failed when generating expression for objective OBJ:\n",
      "ValueError: Error executing summation(): The last argument value must be a variable or expression object if no 'index' option is specified\n",
      "ERROR:pyomo.core:Constructing component 'OBJ' from data=None failed:\n",
      "ValueError: Error executing summation(): The last argument value must be a variable or expression object if no 'index' option is specified\n"
     ]
    },
    {
     "name": "stdout",
     "output_type": "stream",
     "text": [
      "ERROR: Rule failed when generating expression for objective OBJ:\n",
      "\tValueError: Error executing summation(): The last argument value must be a variable or expression object if no 'index' option is specified\n",
      "ERROR: Constructing component 'OBJ' from data=None failed:\n",
      "\tValueError: Error executing summation(): The last argument value must be a variable or expression object if no 'index' option is specified\n"
     ]
    },
    {
     "ename": "ValueError",
     "evalue": "Error executing summation(): The last argument value must be a variable or expression object if no 'index' option is specified",
     "output_type": "error",
     "traceback": [
      "\u001b[1;31m---------------------------------------------------------------------------\u001b[0m",
      "\u001b[1;31mValueError\u001b[0m                                Traceback (most recent call last)",
      "\u001b[1;32m<ipython-input-22-7571ae13333a>\u001b[0m in \u001b[0;36m<module>\u001b[1;34m()\u001b[0m\n\u001b[0;32m     32\u001b[0m \u001b[0mopt\u001b[0m \u001b[1;33m=\u001b[0m \u001b[0mSolverFactory\u001b[0m\u001b[1;33m(\u001b[0m\u001b[1;34m'glpk'\u001b[0m\u001b[1;33m)\u001b[0m\u001b[1;33m\u001b[0m\u001b[0m\n\u001b[0;32m     33\u001b[0m \u001b[1;33m\u001b[0m\u001b[0m\n\u001b[1;32m---> 34\u001b[1;33m \u001b[0mproblem\u001b[0m \u001b[1;33m=\u001b[0m \u001b[0mp\u001b[0m\u001b[1;33m.\u001b[0m\u001b[0mcreate_instance\u001b[0m\u001b[1;33m(\u001b[0m\u001b[1;33m)\u001b[0m\u001b[1;33m\u001b[0m\u001b[0m\n\u001b[0m\u001b[0;32m     35\u001b[0m \u001b[0mresult\u001b[0m \u001b[1;33m=\u001b[0m \u001b[0mopt\u001b[0m\u001b[1;33m.\u001b[0m\u001b[0msolve\u001b[0m\u001b[1;33m(\u001b[0m\u001b[0mproblem\u001b[0m\u001b[1;33m)\u001b[0m\u001b[1;33m\u001b[0m\u001b[0m\n\u001b[0;32m     36\u001b[0m \u001b[1;33m\u001b[0m\u001b[0m\n",
      "\u001b[1;32m/home/fergieis/anaconda2/lib/python2.7/site-packages/pyomo/core/base/PyomoModel.pyc\u001b[0m in \u001b[0;36mcreate_instance\u001b[1;34m(self, filename, data, name, namespace, namespaces, preprocess, profile_memory, report_timing, clone)\u001b[0m\n\u001b[0;32m    651\u001b[0m \u001b[1;33m\u001b[0m\u001b[0m\n\u001b[0;32m    652\u001b[0m             \u001b[1;32mif\u001b[0m \u001b[0mnamespaces\u001b[0m \u001b[1;32mis\u001b[0m \u001b[0mNone\u001b[0m \u001b[1;32mor\u001b[0m \u001b[0mlen\u001b[0m\u001b[1;33m(\u001b[0m\u001b[0mnamespaces\u001b[0m\u001b[1;33m)\u001b[0m \u001b[1;33m==\u001b[0m \u001b[1;36m0\u001b[0m\u001b[1;33m:\u001b[0m\u001b[1;33m\u001b[0m\u001b[0m\n\u001b[1;32m--> 653\u001b[1;33m                 \u001b[0minstance\u001b[0m\u001b[1;33m.\u001b[0m\u001b[0mload\u001b[0m\u001b[1;33m(\u001b[0m\u001b[0mdata\u001b[0m\u001b[1;33m,\u001b[0m \u001b[0mnamespaces\u001b[0m\u001b[1;33m=\u001b[0m\u001b[1;33m[\u001b[0m\u001b[0mNone\u001b[0m\u001b[1;33m]\u001b[0m\u001b[1;33m,\u001b[0m \u001b[0mprofile_memory\u001b[0m\u001b[1;33m=\u001b[0m\u001b[0mprofile_memory\u001b[0m\u001b[1;33m,\u001b[0m \u001b[0mreport_timing\u001b[0m\u001b[1;33m=\u001b[0m\u001b[0mreport_timing\u001b[0m\u001b[1;33m)\u001b[0m\u001b[1;33m\u001b[0m\u001b[0m\n\u001b[0m\u001b[0;32m    654\u001b[0m             \u001b[1;32melse\u001b[0m\u001b[1;33m:\u001b[0m\u001b[1;33m\u001b[0m\u001b[0m\n\u001b[0;32m    655\u001b[0m                 \u001b[0minstance\u001b[0m\u001b[1;33m.\u001b[0m\u001b[0mload\u001b[0m\u001b[1;33m(\u001b[0m\u001b[0mdata\u001b[0m\u001b[1;33m,\u001b[0m \u001b[0mnamespaces\u001b[0m\u001b[1;33m=\u001b[0m\u001b[0mlist\u001b[0m\u001b[1;33m(\u001b[0m\u001b[0mnamespaces\u001b[0m\u001b[1;33m)\u001b[0m\u001b[1;33m+\u001b[0m\u001b[1;33m[\u001b[0m\u001b[0mNone\u001b[0m\u001b[1;33m]\u001b[0m\u001b[1;33m,\u001b[0m \u001b[0mprofile_memory\u001b[0m\u001b[1;33m=\u001b[0m\u001b[0mprofile_memory\u001b[0m\u001b[1;33m,\u001b[0m \u001b[0mreport_timing\u001b[0m\u001b[1;33m=\u001b[0m\u001b[0mreport_timing\u001b[0m\u001b[1;33m)\u001b[0m\u001b[1;33m\u001b[0m\u001b[0m\n",
      "\u001b[1;32m/home/fergieis/anaconda2/lib/python2.7/site-packages/pyomo/core/base/PyomoModel.pyc\u001b[0m in \u001b[0;36mload\u001b[1;34m(self, arg, namespaces, profile_memory, report_timing)\u001b[0m\n\u001b[0;32m    731\u001b[0m                               \u001b[0mnamespaces\u001b[0m\u001b[1;33m,\u001b[0m\u001b[1;33m\u001b[0m\u001b[0m\n\u001b[0;32m    732\u001b[0m                               \u001b[0mprofile_memory\u001b[0m\u001b[1;33m=\u001b[0m\u001b[0mprofile_memory\u001b[0m\u001b[1;33m,\u001b[0m\u001b[1;33m\u001b[0m\u001b[0m\n\u001b[1;32m--> 733\u001b[1;33m                               report_timing=report_timing)\n\u001b[0m\u001b[0;32m    734\u001b[0m \u001b[1;33m\u001b[0m\u001b[0m\n\u001b[0;32m    735\u001b[0m     \u001b[1;32mdef\u001b[0m \u001b[0m_tuplize\u001b[0m\u001b[1;33m(\u001b[0m\u001b[0mself\u001b[0m\u001b[1;33m,\u001b[0m \u001b[0mdata\u001b[0m\u001b[1;33m,\u001b[0m \u001b[0msetobj\u001b[0m\u001b[1;33m)\u001b[0m\u001b[1;33m:\u001b[0m\u001b[1;33m\u001b[0m\u001b[0m\n",
      "\u001b[1;32m/home/fergieis/anaconda2/lib/python2.7/site-packages/pyomo/core/base/PyomoModel.pyc\u001b[0m in \u001b[0;36m_load_model_data\u001b[1;34m(self, modeldata, namespaces, **kwds)\u001b[0m\n\u001b[0;32m    811\u001b[0m                         )\n\u001b[0;32m    812\u001b[0m \u001b[1;33m\u001b[0m\u001b[0m\n\u001b[1;32m--> 813\u001b[1;33m                 \u001b[0mself\u001b[0m\u001b[1;33m.\u001b[0m\u001b[0m_initialize_component\u001b[0m\u001b[1;33m(\u001b[0m\u001b[0mmodeldata\u001b[0m\u001b[1;33m,\u001b[0m \u001b[0mnamespaces\u001b[0m\u001b[1;33m,\u001b[0m \u001b[0mcomponent_name\u001b[0m\u001b[1;33m,\u001b[0m \u001b[0mprofile_memory\u001b[0m\u001b[1;33m)\u001b[0m\u001b[1;33m\u001b[0m\u001b[0m\n\u001b[0m\u001b[0;32m    814\u001b[0m \u001b[1;33m\u001b[0m\u001b[0m\n\u001b[0;32m    815\u001b[0m                 \u001b[1;32mif\u001b[0m \u001b[0mreport_timing\u001b[0m \u001b[1;32mis\u001b[0m \u001b[0mTrue\u001b[0m\u001b[1;33m:\u001b[0m\u001b[1;33m\u001b[0m\u001b[0m\n",
      "\u001b[1;32m/home/fergieis/anaconda2/lib/python2.7/site-packages/pyomo/core/base/PyomoModel.pyc\u001b[0m in \u001b[0;36m_initialize_component\u001b[1;34m(self, modeldata, namespaces, component_name, profile_memory)\u001b[0m\n\u001b[0;32m    875\u001b[0m                           declaration.cname(), _blockName, str(data) )\n\u001b[0;32m    876\u001b[0m         \u001b[1;32mtry\u001b[0m\u001b[1;33m:\u001b[0m\u001b[1;33m\u001b[0m\u001b[0m\n\u001b[1;32m--> 877\u001b[1;33m             \u001b[0mdeclaration\u001b[0m\u001b[1;33m.\u001b[0m\u001b[0mconstruct\u001b[0m\u001b[1;33m(\u001b[0m\u001b[0mdata\u001b[0m\u001b[1;33m)\u001b[0m\u001b[1;33m\u001b[0m\u001b[0m\n\u001b[0m\u001b[0;32m    878\u001b[0m         \u001b[1;32mexcept\u001b[0m\u001b[1;33m:\u001b[0m\u001b[1;33m\u001b[0m\u001b[0m\n\u001b[0;32m    879\u001b[0m             \u001b[0merr\u001b[0m \u001b[1;33m=\u001b[0m \u001b[0msys\u001b[0m\u001b[1;33m.\u001b[0m\u001b[0mexc_info\u001b[0m\u001b[1;33m(\u001b[0m\u001b[1;33m)\u001b[0m\u001b[1;33m[\u001b[0m\u001b[1;36m1\u001b[0m\u001b[1;33m]\u001b[0m\u001b[1;33m\u001b[0m\u001b[0m\n",
      "\u001b[1;32m/home/fergieis/anaconda2/lib/python2.7/site-packages/pyomo/core/base/objective.pyc\u001b[0m in \u001b[0;36mconstruct\u001b[1;34m(self, data)\u001b[0m\n\u001b[0;32m    387\u001b[0m             \u001b[1;32melse\u001b[0m\u001b[1;33m:\u001b[0m\u001b[1;33m\u001b[0m\u001b[0m\n\u001b[0;32m    388\u001b[0m                 \u001b[1;32mtry\u001b[0m\u001b[1;33m:\u001b[0m\u001b[1;33m\u001b[0m\u001b[0m\n\u001b[1;32m--> 389\u001b[1;33m                     \u001b[0mtmp\u001b[0m \u001b[1;33m=\u001b[0m \u001b[0m_init_rule\u001b[0m\u001b[1;33m(\u001b[0m\u001b[0m_self_parent\u001b[0m\u001b[1;33m)\u001b[0m\u001b[1;33m\u001b[0m\u001b[0m\n\u001b[0m\u001b[0;32m    390\u001b[0m                 \u001b[1;32mexcept\u001b[0m \u001b[0mException\u001b[0m\u001b[1;33m:\u001b[0m\u001b[1;33m\u001b[0m\u001b[0m\n\u001b[0;32m    391\u001b[0m                     \u001b[0merr\u001b[0m \u001b[1;33m=\u001b[0m \u001b[0msys\u001b[0m\u001b[1;33m.\u001b[0m\u001b[0mexc_info\u001b[0m\u001b[1;33m(\u001b[0m\u001b[1;33m)\u001b[0m\u001b[1;33m[\u001b[0m\u001b[1;36m1\u001b[0m\u001b[1;33m]\u001b[0m\u001b[1;33m\u001b[0m\u001b[0m\n",
      "\u001b[1;32m<ipython-input-22-7571ae13333a>\u001b[0m in \u001b[0;36mobj_function\u001b[1;34m(p)\u001b[0m\n\u001b[0;32m     16\u001b[0m \u001b[0mp\u001b[0m\u001b[1;33m.\u001b[0m\u001b[0mx\u001b[0m \u001b[1;33m=\u001b[0m \u001b[0mVar\u001b[0m\u001b[1;33m(\u001b[0m\u001b[0mp\u001b[0m\u001b[1;33m.\u001b[0m\u001b[0mJ\u001b[0m\u001b[1;33m,\u001b[0m \u001b[0mdomain\u001b[0m\u001b[1;33m=\u001b[0m\u001b[0mNonNegativeReals\u001b[0m\u001b[1;33m)\u001b[0m\u001b[1;33m\u001b[0m\u001b[0m\n\u001b[0;32m     17\u001b[0m \u001b[1;32mdef\u001b[0m \u001b[0mobj_function\u001b[0m\u001b[1;33m(\u001b[0m\u001b[0mp\u001b[0m\u001b[1;33m)\u001b[0m\u001b[1;33m:\u001b[0m\u001b[1;33m\u001b[0m\u001b[0m\n\u001b[1;32m---> 18\u001b[1;33m         \u001b[1;32mreturn\u001b[0m \u001b[0msummation\u001b[0m\u001b[1;33m(\u001b[0m\u001b[0mp\u001b[0m\u001b[1;33m.\u001b[0m\u001b[0mc\u001b[0m\u001b[1;33m,\u001b[0m \u001b[0mp\u001b[0m\u001b[1;33m.\u001b[0m\u001b[0ma\u001b[0m\u001b[1;33m)\u001b[0m\u001b[1;33m\u001b[0m\u001b[0m\n\u001b[0m\u001b[0;32m     19\u001b[0m \u001b[1;33m\u001b[0m\u001b[0m\n\u001b[0;32m     20\u001b[0m \u001b[0mp\u001b[0m\u001b[1;33m.\u001b[0m\u001b[0mOBJ\u001b[0m \u001b[1;33m=\u001b[0m \u001b[0mObjective\u001b[0m\u001b[1;33m(\u001b[0m\u001b[0mrule\u001b[0m\u001b[1;33m=\u001b[0m\u001b[0mobj_function\u001b[0m\u001b[1;33m,\u001b[0m \u001b[0msense\u001b[0m\u001b[1;33m=\u001b[0m\u001b[0mmaximize\u001b[0m\u001b[1;33m)\u001b[0m\u001b[1;33m\u001b[0m\u001b[0m\n",
      "\u001b[1;32m/home/fergieis/anaconda2/lib/python2.7/site-packages/pyomo/core/base/util.pyc\u001b[0m in \u001b[0;36msummation\u001b[1;34m(*args, **kwds)\u001b[0m\n\u001b[0;32m     62\u001b[0m             \u001b[0miarg\u001b[0m\u001b[1;33m=\u001b[0m\u001b[0margs\u001b[0m\u001b[1;33m[\u001b[0m\u001b[1;33m-\u001b[0m\u001b[1;36m1\u001b[0m\u001b[1;33m]\u001b[0m\u001b[1;33m\u001b[0m\u001b[0m\n\u001b[0;32m     63\u001b[0m             \u001b[1;32mif\u001b[0m \u001b[1;32mnot\u001b[0m \u001b[0misinstance\u001b[0m\u001b[1;33m(\u001b[0m\u001b[0miarg\u001b[0m\u001b[1;33m,\u001b[0m\u001b[0mpyomo\u001b[0m\u001b[1;33m.\u001b[0m\u001b[0mcore\u001b[0m\u001b[1;33m.\u001b[0m\u001b[0mbase\u001b[0m\u001b[1;33m.\u001b[0m\u001b[0mvar\u001b[0m\u001b[1;33m.\u001b[0m\u001b[0mVar\u001b[0m\u001b[1;33m)\u001b[0m \u001b[1;32mand\u001b[0m \u001b[1;32mnot\u001b[0m \u001b[0misinstance\u001b[0m\u001b[1;33m(\u001b[0m\u001b[0miarg\u001b[0m\u001b[1;33m,\u001b[0m \u001b[0mpyomo\u001b[0m\u001b[1;33m.\u001b[0m\u001b[0mcore\u001b[0m\u001b[1;33m.\u001b[0m\u001b[0mbase\u001b[0m\u001b[1;33m.\u001b[0m\u001b[0mexpression\u001b[0m\u001b[1;33m.\u001b[0m\u001b[0mExpression\u001b[0m\u001b[1;33m)\u001b[0m\u001b[1;33m:\u001b[0m\u001b[1;33m\u001b[0m\u001b[0m\n\u001b[1;32m---> 64\u001b[1;33m                 \u001b[1;32mraise\u001b[0m \u001b[0mValueError\u001b[0m\u001b[1;33m(\u001b[0m\u001b[1;34m\"Error executing summation(): The last argument value must be a variable or expression object if no 'index' option is specified\"\u001b[0m\u001b[1;33m)\u001b[0m\u001b[1;33m\u001b[0m\u001b[0m\n\u001b[0m\u001b[0;32m     65\u001b[0m         \u001b[1;32melse\u001b[0m\u001b[1;33m:\u001b[0m\u001b[1;33m\u001b[0m\u001b[0m\n\u001b[0;32m     66\u001b[0m             \u001b[0miarg\u001b[0m\u001b[1;33m=\u001b[0m\u001b[0mdenom\u001b[0m\u001b[1;33m[\u001b[0m\u001b[1;33m-\u001b[0m\u001b[1;36m1\u001b[0m\u001b[1;33m]\u001b[0m\u001b[1;33m\u001b[0m\u001b[0m\n",
      "\u001b[1;31mValueError\u001b[0m: Error executing summation(): The last argument value must be a variable or expression object if no 'index' option is specified"
     ]
    }
   ],
   "source": [
    "from pyomo.environ import * \n",
    "from __future__ import division \n",
    "\n",
    "p = AbstractModel()\n",
    "\n",
    "p.m = Param(within=NonNegativeIntegers)\n",
    "p.n = Param(within=NonNegativeIntegers)\n",
    "\n",
    "p.I = Set()\n",
    "p.J = Set()\n",
    "\n",
    "p.a = Param(p.I, p.J)\n",
    "p.b = Param(p.I)\n",
    "p.c = Param(p.J)\n",
    "\n",
    "p.x = Var(p.J, domain=NonNegativeReals)\n",
    "def obj_function(p):\n",
    "\treturn summation(p.c, p.a)\n",
    "\n",
    "p.OBJ = Objective(rule=obj_function, sense=maximize)\n",
    "def const_expression(p, i):\n",
    "\treturn sum(p.a[i,j] * p.x[j] for i in p.J) <= p.b[i]\n",
    "\n",
    "p.AxbConstraint = Constraint(p.I, rule=const_expression)\n",
    "\n",
    "\n",
    "\n",
    "##---------------------------------------------------\n",
    "##---------------------------------------------------\n",
    "\n",
    "from pyomo.opt import SolverFactory\n",
    "opt = SolverFactory('glpk')\n",
    "\n",
    "problem = p.create_instance()\n",
    "result = opt.solve(problem)\n",
    "\n",
    "print(result)\n"
   ]
  },
  {
   "cell_type": "code",
   "execution_count": null,
   "metadata": {
    "collapsed": false
   },
   "outputs": [],
   "source": [
    "pyomo solve pyomoTest.py pyomoTest.dat"
   ]
  },
  {
   "cell_type": "markdown",
   "metadata": {},
   "source": [
    "## Pyomo kind of sucks... can't script easily\n",
    "\n",
    "Build out of Concrete Model sucks for scripting\n",
    "Abstract model with AMPL input can work, but\n",
    "    AbstractModel() is touchy...  getting error raised by parser with pyomo_create_model\n",
    "    \n",
    "    \n"
   ]
  }
 ],
 "metadata": {
  "kernelspec": {
   "display_name": "Python 2",
   "language": "python",
   "name": "python2"
  },
  "language_info": {
   "codemirror_mode": {
    "name": "ipython",
    "version": 2
   },
   "file_extension": ".py",
   "mimetype": "text/x-python",
   "name": "python",
   "nbconvert_exporter": "python",
   "pygments_lexer": "ipython2",
   "version": "2.7.11"
  }
 },
 "nbformat": 4,
 "nbformat_minor": 0
}
