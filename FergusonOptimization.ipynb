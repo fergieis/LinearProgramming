{
 "cells": [
  {
   "cell_type": "markdown",
   "metadata": {},
   "source": [
    "Linear Programming (OPER 610) Project\n"
   ]
  },
  {
   "cell_type": "code",
   "execution_count": null,
   "metadata": {
    "collapsed": false
   },
   "outputs": [],
   "source": [
    "\n",
    "%matplotlib inline\n",
    "import matplotlib as mpl\n",
    "import matplotlib.pyplot as pp\n",
    "import numpy as np\n",
    "from pulp import *\n",
    "import timeit\n",
    "\n",
    "# Decision variables\n",
    "x = [0, LpVariable(\"x1\", 0, 100), LpVariable(\"x2\", 0, 100)]\n",
    "# 0<= x1 <= 100 & 0<= x2 <= 100\n",
    " \n",
    "# Setup Problem -- are LpMax and LpMin statics for 0,1 or -1,1?\n",
    "p = LpProblem(\"problem\", LpMaximize)\n",
    " \n",
    "# Set up matrix A and vector b\n",
    "p += 2*x[1]+x[2] <= 150\n",
    "p += x[1]+x[2] <= 100\n",
    "p += x[1]<=50\n",
    "#strictly necessary?\n",
    "p += x[1]>=0\n",
    "p += x[2]>=0\n",
    " \n",
    "# ObjFunc\n",
    "p += 3*x[1]+2*x[2]\n",
    "\n",
    "Solvr = 0    \n",
    "\n",
    "\n",
    "cbctime = np.empty((1,5))\n",
    "gnutime = np.empty((1,5))\n",
    "cplextime = np.empty((1,5))\n",
    "\n",
    "\n",
    "\n",
    "for iter in xrange(0,4):\n",
    "    \n",
    "    print(\"okay +\"+ str(iter))\n",
    "    # Pass to GNU Solver\n",
    "    start = timeit.default_timer()\n",
    "    status = p.solve(GLPK(msg=0))\n",
    "    gnutime[iter]=(timeit.default_timer() - start)\n",
    "    print(LpStatus[status])\n",
    "\n",
    "    #Solvr +=1\n",
    "    #CBC = Solvr\n",
    "    #CBC\n",
    "    start = timeit.default_timer()\n",
    "    status = p.solve()\n",
    "    cbctime[iter] = (timeit.default_timer() - start)\n",
    "    print(LpStatus[status])\n",
    "\n",
    "#Solvr += 1\n",
    "#GUR = Solvr\n",
    "#CPLEX\n",
    "    start = timeit.default_timer()\n",
    "    status = p.solve(CPLEX(msg=0))\n",
    "    cplextime[iter] = (timeit.default_timer() - start)\n",
    "    #print(LpStatus[status])\n",
    "\n",
    "\n",
    "print(gnutime)\n",
    "print(cplextime)\n",
    "print(cbctime)\n",
    "                    \n",
    "#GUROBI\n",
    "# Pull license with grbgetkey from an academic ip address\n",
    "# call for second test license\n",
    "\n",
    "print(\"(x1,x2) is optimal at (\" + str(value(x[1])) + \", \"+ str(value(x[2])) + \")\" )\n",
    "print(str(gnutime[0]) + \" seconds of CPU time (GLPK).\")\n",
    "print(str(cbctime[1]) + \" seconds of CPU time (COIN/CBC).\")\n",
    "print(str(cplextime[2]) + \" seconds of CPU time (CPLEX).\")\n",
    "\n",
    "#mpl.font_manager.FontProperties(fname='~/Downloads/Humor-Sans.ttf', size=16)\n",
    "\n",
    "ind = np.arange(3)\n",
    "labels = (\"GNU\") #, \"CBC\", \"CPLEX\")\n",
    "chart_1 = pp.boxplot(gnutime, labels=labels, notch=True)\n",
    "pp.xticks(ind+.8/2,  (\"GNU\", \"CBC\", \"CPLEX\"))\n",
    "pp.show()\n",
    "pp.xkcd()\n",
    "time = [np.mean(gnutime), np.mean(cbctime), np.mean(cplextime)]\n",
    "chart_2 = pp.bar(ind, time)\n"
   ]
  },
  {
   "cell_type": "code",
   "execution_count": null,
   "metadata": {
    "collapsed": true
   },
   "outputs": [],
   "source": []
  }
 ],
 "metadata": {
  "kernelspec": {
   "display_name": "Python 2",
   "language": "python",
   "name": "python2"
  },
  "language_info": {
   "codemirror_mode": {
    "name": "ipython",
    "version": 2
   },
   "file_extension": ".py",
   "mimetype": "text/x-python",
   "name": "python",
   "nbconvert_exporter": "python",
   "pygments_lexer": "ipython2",
   "version": "2.7.11"
  }
 },
 "nbformat": 4,
 "nbformat_minor": 0
}
